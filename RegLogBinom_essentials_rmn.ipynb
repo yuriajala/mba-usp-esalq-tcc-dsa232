{
 "cells": [
  {
   "cell_type": "code",
   "execution_count": 2,
   "id": "3c7b9012-f117-451b-8929-4b1c62f95c4d",
   "metadata": {},
   "outputs": [],
   "source": [
    "import pandas as pd # manipulação de dados em formato de dataframe\n",
    "import numpy as np # operações matemáticas\n",
    "import seaborn as sns # visualização gráfica\n",
    "import matplotlib.pyplot as plt # visualização gráfica\n",
    "from scipy.interpolate import UnivariateSpline # curva sigmoide suavizada\n",
    "import statsmodels.api as sm # estimação de modelos\n",
    "import statsmodels.formula.api as smf # estimação do modelo logístico binário\n",
    "from statstests.process import stepwise # procedimento Stepwise\n",
    "from scipy import stats # estatística chi2\n",
    "import plotly.graph_objects as go # gráficos 3D\n",
    "from statsmodels.iolib.summary2 import summary_col # comparação entre modelos\n",
    "from statsmodels.discrete.discrete_model import MNLogit # estimação do modelo\n",
    "                                                        #logístico multinomial\n",
    "import warnings\n",
    "warnings.filterwarnings('ignore')"
   ]
  },
  {
   "cell_type": "code",
   "execution_count": 3,
   "id": "cb09257e-5ef8-44d9-8cd1-d726bb1e5a62",
   "metadata": {
    "scrolled": true
   },
   "outputs": [
    {
     "name": "stdout",
     "output_type": "stream",
     "text": [
      "<class 'pandas.core.frame.DataFrame'>\n",
      "RangeIndex: 1000 entries, 0 to 999\n",
      "Data columns (total 4 columns):\n",
      " #   Column             Non-Null Count  Dtype  \n",
      "---  ------             --------------  -----  \n",
      " 0   classe             1000 non-null   int64  \n",
      " 1   intensidade_sinal  1000 non-null   float64\n",
      " 2   umidade            1000 non-null   float64\n",
      " 3   luminosidade       1000 non-null   float64\n",
      "dtypes: float64(3), int64(1)\n",
      "memory usage: 31.4 KB\n"
     ]
    },
    {
     "data": {
      "text/html": [
       "<div>\n",
       "<style scoped>\n",
       "    .dataframe tbody tr th:only-of-type {\n",
       "        vertical-align: middle;\n",
       "    }\n",
       "\n",
       "    .dataframe tbody tr th {\n",
       "        vertical-align: top;\n",
       "    }\n",
       "\n",
       "    .dataframe thead th {\n",
       "        text-align: right;\n",
       "    }\n",
       "</style>\n",
       "<table border=\"1\" class=\"dataframe\">\n",
       "  <thead>\n",
       "    <tr style=\"text-align: right;\">\n",
       "      <th></th>\n",
       "      <th>classe</th>\n",
       "      <th>intensidade_sinal</th>\n",
       "      <th>umidade</th>\n",
       "      <th>luminosidade</th>\n",
       "    </tr>\n",
       "  </thead>\n",
       "  <tbody>\n",
       "    <tr>\n",
       "      <th>count</th>\n",
       "      <td>1000.000000</td>\n",
       "      <td>1000.000000</td>\n",
       "      <td>1000.000000</td>\n",
       "      <td>1000.000000</td>\n",
       "    </tr>\n",
       "    <tr>\n",
       "      <th>mean</th>\n",
       "      <td>0.258000</td>\n",
       "      <td>29.850511</td>\n",
       "      <td>0.603392</td>\n",
       "      <td>69.882533</td>\n",
       "    </tr>\n",
       "    <tr>\n",
       "      <th>std</th>\n",
       "      <td>0.437753</td>\n",
       "      <td>14.211364</td>\n",
       "      <td>0.200798</td>\n",
       "      <td>5.020484</td>\n",
       "    </tr>\n",
       "    <tr>\n",
       "      <th>min</th>\n",
       "      <td>0.000000</td>\n",
       "      <td>0.000000</td>\n",
       "      <td>-0.126887</td>\n",
       "      <td>51.003242</td>\n",
       "    </tr>\n",
       "    <tr>\n",
       "      <th>25%</th>\n",
       "      <td>0.000000</td>\n",
       "      <td>19.582629</td>\n",
       "      <td>0.466587</td>\n",
       "      <td>66.717979</td>\n",
       "    </tr>\n",
       "    <tr>\n",
       "      <th>50%</th>\n",
       "      <td>0.000000</td>\n",
       "      <td>29.509782</td>\n",
       "      <td>0.602081</td>\n",
       "      <td>69.682891</td>\n",
       "    </tr>\n",
       "    <tr>\n",
       "      <th>75%</th>\n",
       "      <td>1.000000</td>\n",
       "      <td>39.457260</td>\n",
       "      <td>0.738815</td>\n",
       "      <td>73.270498</td>\n",
       "    </tr>\n",
       "    <tr>\n",
       "      <th>max</th>\n",
       "      <td>1.000000</td>\n",
       "      <td>74.951726</td>\n",
       "      <td>1.411920</td>\n",
       "      <td>85.245256</td>\n",
       "    </tr>\n",
       "  </tbody>\n",
       "</table>\n",
       "</div>"
      ],
      "text/plain": [
       "            classe  intensidade_sinal      umidade  luminosidade\n",
       "count  1000.000000        1000.000000  1000.000000   1000.000000\n",
       "mean      0.258000          29.850511     0.603392     69.882533\n",
       "std       0.437753          14.211364     0.200798      5.020484\n",
       "min       0.000000           0.000000    -0.126887     51.003242\n",
       "25%       0.000000          19.582629     0.466587     66.717979\n",
       "50%       0.000000          29.509782     0.602081     69.682891\n",
       "75%       1.000000          39.457260     0.738815     73.270498\n",
       "max       1.000000          74.951726     1.411920     85.245256"
      ]
     },
     "execution_count": 3,
     "metadata": {},
     "output_type": "execute_result"
    }
   ],
   "source": [
    "# In[EXEMPLO 1]:\n",
    "#############################################################################\n",
    "#                      REGRESSÃO LOGÍSTICA BINÁRIA                          #                  \n",
    "#               EXEMPLO 1 - CARREGAMENTO DA BASE DE DADOS                   #\n",
    "#############################################################################\n",
    "\n",
    "df_carne = pd.read_csv('df_rmn.csv',delimiter=',')\n",
    "\n",
    "# Características das variáveis do dataset\n",
    "df_carne.info()\n",
    "\n",
    "# Estatísticas univariadas\n",
    "df_carne.describe()\n"
   ]
  },
  {
   "cell_type": "code",
   "execution_count": 4,
   "id": "192bb600-e392-49d6-9814-87736ba53cff",
   "metadata": {
    "scrolled": true
   },
   "outputs": [
    {
     "data": {
      "text/html": [
       "<table class=\"simpletable\">\n",
       "<caption>Generalized Linear Model Regression Results</caption>\n",
       "<tr>\n",
       "  <th>Dep. Variable:</th>        <td>classe</td>      <th>  No. Observations:  </th>  <td>  1000</td> \n",
       "</tr>\n",
       "<tr>\n",
       "  <th>Model:</th>                  <td>GLM</td>       <th>  Df Residuals:      </th>  <td>   996</td> \n",
       "</tr>\n",
       "<tr>\n",
       "  <th>Model Family:</th>        <td>Binomial</td>     <th>  Df Model:          </th>  <td>     3</td> \n",
       "</tr>\n",
       "<tr>\n",
       "  <th>Link Function:</th>         <td>logit</td>      <th>  Scale:             </th> <td>  1.0000</td>\n",
       "</tr>\n",
       "<tr>\n",
       "  <th>Method:</th>                <td>IRLS</td>       <th>  Log-Likelihood:    </th> <td> -185.44</td>\n",
       "</tr>\n",
       "<tr>\n",
       "  <th>Date:</th>            <td>Sun, 13 Apr 2025</td> <th>  Deviance:          </th> <td>  370.88</td>\n",
       "</tr>\n",
       "<tr>\n",
       "  <th>Time:</th>                <td>20:13:06</td>     <th>  Pearson chi2:      </th>  <td>  353.</td> \n",
       "</tr>\n",
       "<tr>\n",
       "  <th>No. Iterations:</th>          <td>8</td>        <th>                     </th>     <td> </td>   \n",
       "</tr>\n",
       "<tr>\n",
       "  <th>Covariance Type:</th>     <td>nonrobust</td>    <th>                     </th>     <td> </td>   \n",
       "</tr>\n",
       "</table>\n",
       "<table class=\"simpletable\">\n",
       "<tr>\n",
       "          <td></td>             <th>coef</th>     <th>std err</th>      <th>z</th>      <th>P>|z|</th>  <th>[0.025</th>    <th>0.975]</th>  \n",
       "</tr>\n",
       "<tr>\n",
       "  <th>Intercept</th>         <td>  -16.7372</td> <td>    2.258</td> <td>   -7.412</td> <td> 0.000</td> <td>  -21.163</td> <td>  -12.311</td>\n",
       "</tr>\n",
       "<tr>\n",
       "  <th>intensidade_sinal</th> <td>    0.3558</td> <td>    0.027</td> <td>   13.045</td> <td> 0.000</td> <td>    0.302</td> <td>    0.409</td>\n",
       "</tr>\n",
       "<tr>\n",
       "  <th>umidade</th>           <td>   -0.0312</td> <td>    0.640</td> <td>   -0.049</td> <td> 0.961</td> <td>   -1.286</td> <td>    1.224</td>\n",
       "</tr>\n",
       "<tr>\n",
       "  <th>luminosidade</th>      <td>    0.0369</td> <td>    0.026</td> <td>    1.419</td> <td> 0.156</td> <td>   -0.014</td> <td>    0.088</td>\n",
       "</tr>\n",
       "</table>"
      ],
      "text/plain": [
       "<class 'statsmodels.iolib.summary.Summary'>\n",
       "\"\"\"\n",
       "                 Generalized Linear Model Regression Results                  \n",
       "==============================================================================\n",
       "Dep. Variable:                 classe   No. Observations:                 1000\n",
       "Model:                            GLM   Df Residuals:                      996\n",
       "Model Family:                Binomial   Df Model:                            3\n",
       "Link Function:                  logit   Scale:                          1.0000\n",
       "Method:                          IRLS   Log-Likelihood:                -185.44\n",
       "Date:                Sun, 13 Apr 2025   Deviance:                       370.88\n",
       "Time:                        20:13:06   Pearson chi2:                     353.\n",
       "No. Iterations:                     8                                         \n",
       "Covariance Type:            nonrobust                                         \n",
       "=====================================================================================\n",
       "                        coef    std err          z      P>|z|      [0.025      0.975]\n",
       "-------------------------------------------------------------------------------------\n",
       "Intercept           -16.7372      2.258     -7.412      0.000     -21.163     -12.311\n",
       "intensidade_sinal     0.3558      0.027     13.045      0.000       0.302       0.409\n",
       "umidade              -0.0312      0.640     -0.049      0.961      -1.286       1.224\n",
       "luminosidade          0.0369      0.026      1.419      0.156      -0.014       0.088\n",
       "=====================================================================================\n",
       "\"\"\""
      ]
     },
     "execution_count": 4,
     "metadata": {},
     "output_type": "execute_result"
    }
   ],
   "source": [
    "#Estimação de um modelo logístico binário pela função 'smf.glm'\n",
    "#('statsmodels.formula.api')\n",
    "modelo_rmn = smf.glm(formula='classe ~ intensidade_sinal + umidade + luminosidade',\n",
    "                     data=df_carne, family=sm.families.Binomial()).fit()\n",
    "\n",
    "# Parâmetros do 'modelo_atrasos'\n",
    "modelo_rmn.summary()"
   ]
  },
  {
   "cell_type": "code",
   "execution_count": 5,
   "id": "414fc3c5-9a72-49a9-a021-718f695395ae",
   "metadata": {
    "scrolled": true
   },
   "outputs": [
    {
     "data": {
      "text/html": [
       "<table class=\"simpletable\">\n",
       "<tr>\n",
       "          <td></td>            <th>MODELO</th>   \n",
       "</tr>\n",
       "<tr>\n",
       "  <th>Intercept</th>         <td>-16.7372***</td>\n",
       "</tr>\n",
       "<tr>\n",
       "  <th></th>                   <td>(2.2583)</td>  \n",
       "</tr>\n",
       "<tr>\n",
       "  <th>intensidade_sinal</th>  <td>0.3558***</td> \n",
       "</tr>\n",
       "<tr>\n",
       "  <th></th>                   <td>(0.0273)</td>  \n",
       "</tr>\n",
       "<tr>\n",
       "  <th>umidade</th>             <td>-0.0312</td>  \n",
       "</tr>\n",
       "<tr>\n",
       "  <th></th>                   <td>(0.6404)</td>  \n",
       "</tr>\n",
       "<tr>\n",
       "  <th>luminosidade</th>        <td>0.0369</td>   \n",
       "</tr>\n",
       "<tr>\n",
       "  <th></th>                   <td>(0.0260)</td>  \n",
       "</tr>\n",
       "<tr>\n",
       "  <th>N</th>                    <td>1000</td>    \n",
       "</tr>\n",
       "<tr>\n",
       "  <th>Log-lik</th>            <td>-185.442</td>  \n",
       "</tr>\n",
       "</table>"
      ],
      "text/plain": [
       "<class 'statsmodels.iolib.summary2.Summary'>\n",
       "\"\"\"\n",
       "\n",
       "=============================\n",
       "                     MODELO  \n",
       "-----------------------------\n",
       "Intercept         -16.7372***\n",
       "                  (2.2583)   \n",
       "intensidade_sinal 0.3558***  \n",
       "                  (0.0273)   \n",
       "umidade           -0.0312    \n",
       "                  (0.6404)   \n",
       "luminosidade      0.0369     \n",
       "                  (0.0260)   \n",
       "N                 1000       \n",
       "Log-lik           -185.442   \n",
       "=============================\n",
       "Standard errors in\n",
       "parentheses.\n",
       "* p<.1, ** p<.05, ***p<.01\n",
       "\"\"\""
      ]
     },
     "execution_count": 5,
     "metadata": {},
     "output_type": "execute_result"
    }
   ],
   "source": [
    "# In[1.3]: Outputs do modelo pela função 'summary_col'\n",
    "summary_col([modelo_rmn],\n",
    "            model_names=[\"MODELO\"],\n",
    "            stars=True,\n",
    "            info_dict = {\n",
    "                'N':lambda x: \"{0:d}\".format(int(x.nobs)),\n",
    "                'Log-lik':lambda x: \"{:.3f}\".format(x.llf)\n",
    "        })"
   ]
  },
  {
   "cell_type": "code",
   "execution_count": 6,
   "id": "31274246-a33d-4c5e-85d2-2bef939249a2",
   "metadata": {
    "scrolled": true
   },
   "outputs": [
    {
     "data": {
      "text/html": [
       "<div>\n",
       "<style scoped>\n",
       "    .dataframe tbody tr th:only-of-type {\n",
       "        vertical-align: middle;\n",
       "    }\n",
       "\n",
       "    .dataframe tbody tr th {\n",
       "        vertical-align: top;\n",
       "    }\n",
       "\n",
       "    .dataframe thead th {\n",
       "        text-align: right;\n",
       "    }\n",
       "</style>\n",
       "<table border=\"1\" class=\"dataframe\">\n",
       "  <thead>\n",
       "    <tr style=\"text-align: right;\">\n",
       "      <th></th>\n",
       "      <th>classe</th>\n",
       "      <th>intensidade_sinal</th>\n",
       "      <th>umidade</th>\n",
       "      <th>luminosidade</th>\n",
       "      <th>phat</th>\n",
       "    </tr>\n",
       "  </thead>\n",
       "  <tbody>\n",
       "    <tr>\n",
       "      <th>0</th>\n",
       "      <td>0</td>\n",
       "      <td>43.097393</td>\n",
       "      <td>0.668410</td>\n",
       "      <td>73.396712</td>\n",
       "      <td>7.825930e-01</td>\n",
       "    </tr>\n",
       "    <tr>\n",
       "      <th>1</th>\n",
       "      <td>1</td>\n",
       "      <td>36.192234</td>\n",
       "      <td>0.397114</td>\n",
       "      <td>72.604725</td>\n",
       "      <td>2.320573e-01</td>\n",
       "    </tr>\n",
       "    <tr>\n",
       "      <th>2</th>\n",
       "      <td>1</td>\n",
       "      <td>53.349120</td>\n",
       "      <td>0.355536</td>\n",
       "      <td>64.608831</td>\n",
       "      <td>9.901880e-01</td>\n",
       "    </tr>\n",
       "    <tr>\n",
       "      <th>3</th>\n",
       "      <td>0</td>\n",
       "      <td>17.929937</td>\n",
       "      <td>0.700865</td>\n",
       "      <td>66.721904</td>\n",
       "      <td>3.630153e-04</td>\n",
       "    </tr>\n",
       "    <tr>\n",
       "      <th>4</th>\n",
       "      <td>0</td>\n",
       "      <td>19.344955</td>\n",
       "      <td>0.372973</td>\n",
       "      <td>74.479639</td>\n",
       "      <td>8.072103e-04</td>\n",
       "    </tr>\n",
       "    <tr>\n",
       "      <th>...</th>\n",
       "      <td>...</td>\n",
       "      <td>...</td>\n",
       "      <td>...</td>\n",
       "      <td>...</td>\n",
       "      <td>...</td>\n",
       "    </tr>\n",
       "    <tr>\n",
       "      <th>995</th>\n",
       "      <td>0</td>\n",
       "      <td>27.972347</td>\n",
       "      <td>0.469383</td>\n",
       "      <td>73.264523</td>\n",
       "      <td>1.631385e-02</td>\n",
       "    </tr>\n",
       "    <tr>\n",
       "      <th>996</th>\n",
       "      <td>0</td>\n",
       "      <td>0.000000</td>\n",
       "      <td>0.567815</td>\n",
       "      <td>70.553358</td>\n",
       "      <td>7.122772e-07</td>\n",
       "    </tr>\n",
       "    <tr>\n",
       "      <th>997</th>\n",
       "      <td>0</td>\n",
       "      <td>41.019917</td>\n",
       "      <td>0.708989</td>\n",
       "      <td>77.724101</td>\n",
       "      <td>6.681637e-01</td>\n",
       "    </tr>\n",
       "    <tr>\n",
       "      <th>998</th>\n",
       "      <td>0</td>\n",
       "      <td>33.703622</td>\n",
       "      <td>1.411920</td>\n",
       "      <td>70.278373</td>\n",
       "      <td>9.979042e-02</td>\n",
       "    </tr>\n",
       "    <tr>\n",
       "      <th>999</th>\n",
       "      <td>0</td>\n",
       "      <td>32.775106</td>\n",
       "      <td>0.906299</td>\n",
       "      <td>77.374970</td>\n",
       "      <td>9.512366e-02</td>\n",
       "    </tr>\n",
       "  </tbody>\n",
       "</table>\n",
       "<p>1000 rows × 5 columns</p>\n",
       "</div>"
      ],
      "text/plain": [
       "     classe  intensidade_sinal   umidade  luminosidade          phat\n",
       "0         0          43.097393  0.668410     73.396712  7.825930e-01\n",
       "1         1          36.192234  0.397114     72.604725  2.320573e-01\n",
       "2         1          53.349120  0.355536     64.608831  9.901880e-01\n",
       "3         0          17.929937  0.700865     66.721904  3.630153e-04\n",
       "4         0          19.344955  0.372973     74.479639  8.072103e-04\n",
       "..      ...                ...       ...           ...           ...\n",
       "995       0          27.972347  0.469383     73.264523  1.631385e-02\n",
       "996       0           0.000000  0.567815     70.553358  7.122772e-07\n",
       "997       0          41.019917  0.708989     77.724101  6.681637e-01\n",
       "998       0          33.703622  1.411920     70.278373  9.979042e-02\n",
       "999       0          32.775106  0.906299     77.374970  9.512366e-02\n",
       "\n",
       "[1000 rows x 5 columns]"
      ]
     },
     "execution_count": 6,
     "metadata": {},
     "output_type": "execute_result"
    }
   ],
   "source": [
    "# In[1.5]: Construção de uma matriz de confusão\n",
    "\n",
    "# Adicionando os valores previstos de probabilidade na base de dados\n",
    "df_carne['phat'] = modelo_rmn.predict()\n",
    "\n",
    "# Visualização da base de dados com a variável 'phat'\n",
    "df_carne"
   ]
  },
  {
   "cell_type": "code",
   "execution_count": 7,
   "id": "85aee2ad-3823-4686-98bd-82da4c7200c9",
   "metadata": {},
   "outputs": [
    {
     "data": {
      "text/plain": [
       "<function matplotlib.pyplot.show(close=None, block=None)>"
      ]
     },
     "execution_count": 7,
     "metadata": {},
     "output_type": "execute_result"
    },
    {
     "data": {
      "image/png": "[encoded data removed]",
      "text/plain": [
       "<Figure size 360x216 with 1 Axes>"
      ]
     },
     "metadata": {
      "needs_background": "light"
     },
     "output_type": "display_data"
    }
   ],
   "source": [
    "# In[1.7]: Ajuste logístico determinístico entre a variável dependente e a\n",
    "#variável 'sem'\n",
    "\n",
    "# Sigmoide\n",
    "\n",
    "plt.figure(figsize=(5,3))\n",
    "sns.regplot(x=df_carne['intensidade_sinal'], y=df_carne['classe'],\n",
    "            ci=None, marker='o', logistic=True,\n",
    "            scatter_kws={'color':'orange', 's':25, 'alpha':0.7},\n",
    "            line_kws={'color':'darkorchid', 'linewidth':2})\n",
    "plt.axhline(y = 0.5, color = 'grey', linestyle = ':')\n",
    "plt.xlabel('Intensidade de sinal', fontsize=10)\n",
    "plt.ylabel('Classe', fontsize=10)\n",
    "plt.xticks(np.arange(0, df_carne['intensidade_sinal'].max() + 0.1, 10),\n",
    "           fontsize=10)\n",
    "plt.yticks(np.arange(0, 1.1, 0.2), fontsize=11)\n",
    "plt.show"
   ]
  },
  {
   "cell_type": "code",
   "execution_count": 8,
   "id": "ddc31e61-29b1-4784-b74a-d8c344e05c55",
   "metadata": {
    "scrolled": true
   },
   "outputs": [
    {
     "data": {
      "text/plain": [
       "<function matplotlib.pyplot.show(close=None, block=None)>"
      ]
     },
     "execution_count": 8,
     "metadata": {},
     "output_type": "execute_result"
    },
    {
     "data": {
      "image/png": "[encoded data removed]",
      "text/plain": [
       "<Figure size 360x216 with 1 Axes>"
      ]
     },
     "metadata": {
      "needs_background": "light"
     },
     "output_type": "display_data"
    }
   ],
   "source": [
    "# In[1.8]: Ajuste logístico probabilístico entre a variável dependente e a\n",
    "#variável 'sem'\n",
    "\n",
    "# Sigmoide\n",
    "\n",
    "plt.figure(figsize=(5,3))\n",
    "sns.regplot(x=df_carne['intensidade_sinal'], y=df_carne['phat'],\n",
    "            ci=None, marker='o', logistic=True,\n",
    "            scatter_kws={'color':'orange', 's':25, 'alpha':0.7},\n",
    "            line_kws={'color':'darkorchid', 'linewidth':2})\n",
    "plt.axhline(y = 0.5, color = 'grey', linestyle = ':')\n",
    "plt.xlabel('Intensidade de sinal', fontsize=10)\n",
    "plt.ylabel('Classe', fontsize=10)\n",
    "plt.xticks(np.arange(0, df_carne['intensidade_sinal'].max() + 0.01, 10),\n",
    "           fontsize=10)\n",
    "plt.yticks(np.arange(0, 1.1, 0.2), fontsize=10)\n",
    "plt.show"
   ]
  },
  {
   "cell_type": "code",
   "execution_count": 9,
   "id": "60dad0ac-4eab-4534-93c1-861bb78ef5ad",
   "metadata": {},
   "outputs": [],
   "source": [
    "# In[1.9]: Construção de função para a definição da matriz de confusão\n",
    "\n",
    "from sklearn.metrics import confusion_matrix, accuracy_score,\\\n",
    "    ConfusionMatrixDisplay, recall_score\n",
    "\n",
    "def matriz_confusao(predicts, observado, cutoff):\n",
    "    \n",
    "    values = predicts.values\n",
    "    \n",
    "    predicao_binaria = []\n",
    "        \n",
    "    for item in values:\n",
    "        if item < cutoff:\n",
    "            predicao_binaria.append(0)\n",
    "        else:\n",
    "            predicao_binaria.append(1)\n",
    "           \n",
    "    cm = confusion_matrix(predicao_binaria, observado)\n",
    "    disp = ConfusionMatrixDisplay(confusion_matrix=cm)\n",
    "    disp.plot()\n",
    "    plt.xlabel('True')\n",
    "    plt.ylabel('Classified')\n",
    "    plt.gca().invert_xaxis()\n",
    "    plt.gca().invert_yaxis()\n",
    "    plt.show()\n",
    "        \n",
    "    sensitividade = recall_score(observado, predicao_binaria, pos_label=1)\n",
    "    especificidade = recall_score(observado, predicao_binaria, pos_label=0)\n",
    "    acuracia = accuracy_score(observado, predicao_binaria)\n",
    "\n",
    "    # Visualização dos principais indicadores desta matriz de confusão\n",
    "    indicadores = pd.DataFrame({'Sensitividade':[sensitividade],\n",
    "                                'Especificidade':[especificidade],\n",
    "                                'Acurácia':[acuracia]})\n",
    "    return indicadores"
   ]
  },
  {
   "cell_type": "code",
   "execution_count": 10,
   "id": "c4721fc7-3582-40a5-b061-28b5442801b8",
   "metadata": {
    "scrolled": false
   },
   "outputs": [
    {
     "data": {
      "image/png": "[encoded data removed]",
      "text/plain": [
       "<Figure size 432x288 with 2 Axes>"
      ]
     },
     "metadata": {
      "needs_background": "light"
     },
     "output_type": "display_data"
    },
    {
     "name": "stdout",
     "output_type": "stream",
     "text": [
      "   Sensitividade  Especificidade  Acurácia\n",
      "0       0.767442         0.93531     0.892\n"
     ]
    },
    {
     "data": {
      "image/png": "[encoded data removed]",
      "text/plain": [
       "<Figure size 432x288 with 2 Axes>"
      ]
     },
     "metadata": {
      "needs_background": "light"
     },
     "output_type": "display_data"
    },
    {
     "name": "stdout",
     "output_type": "stream",
     "text": [
      "   Sensitividade  Especificidade  Acurácia\n",
      "0       0.872093        0.907008     0.898\n"
     ]
    },
    {
     "data": {
      "image/png": "[encoded data removed]",
      "text/plain": [
       "<Figure size 432x288 with 2 Axes>"
      ]
     },
     "metadata": {
      "needs_background": "light"
     },
     "output_type": "display_data"
    },
    {
     "name": "stdout",
     "output_type": "stream",
     "text": [
      "   Sensitividade  Especificidade  Acurácia\n",
      "0       0.709302        0.973046     0.905\n"
     ]
    }
   ],
   "source": [
    "# In[1.10]: Matrizes de confusão propriamente ditas\n",
    "\n",
    "# Matriz de confusão para cutoff = 0.5\n",
    "ind_05 = matriz_confusao(observado=df_carne['classe'],\n",
    "                predicts=df_carne['phat'], \n",
    "                cutoff=0.5)\n",
    "print(ind_05)\n",
    "\n",
    "# Matriz de confusão para cutoff = 0.3\n",
    "ind_03 = matriz_confusao(observado=df_carne['classe'],\n",
    "                predicts=df_carne['phat'], \n",
    "                cutoff=0.3)\n",
    "print(ind_03)\n",
    "\n",
    "# Matriz de confusão para cutoff = 0.7\n",
    "ind_07 = matriz_confusao(observado=df_carne['classe'],\n",
    "                predicts=df_carne['phat'], \n",
    "                cutoff=0.7)\n",
    "print(ind_07)"
   ]
  },
  {
   "cell_type": "code",
   "execution_count": 11,
   "id": "8455d694-6355-4e98-88b5-972e30def9ea",
   "metadata": {},
   "outputs": [],
   "source": [
    "# In[1.11]: Igualando critérios de especificidade e de sensitividade\n",
    "\n",
    "# Tentaremos estabelecer um critério que iguale a probabilidade de\n",
    "#acerto daqueles que chegarão atrasados (sensitividade) e a probabilidade de\n",
    "#acerto daqueles que não chegarão atrasados (especificidade).\n",
    "\n",
    "# ATENÇÃO: o que será feito a seguir possui fins didáticos, apenas. DE NENHUMA\n",
    "#FORMA, o procedimento garante a maximização da acurácia do modelo!\n",
    "\n",
    "# Criação da função 'espec_sens' para a construção de um dataset com diferentes\n",
    "#valores de cutoff, sensitividade e especificidade:\n",
    "\n",
    "def espec_sens(observado,predicts):\n",
    "    \n",
    "    # Adicionar objeto com os valores dos predicts\n",
    "    values = predicts.values\n",
    "    \n",
    "    # Range dos cutoffs a serem analisados em steps de 0.01\n",
    "    cutoffs = np.arange(0,1.01,0.01)\n",
    "    \n",
    "    # Listas que receberão os resultados de especificidade e sensitividade\n",
    "    lista_sensitividade = []\n",
    "    lista_especificidade = []\n",
    "    \n",
    "    for cutoff in cutoffs:\n",
    "        \n",
    "        predicao_binaria = []\n",
    "        \n",
    "        # Definindo resultado binário de acordo com o predict\n",
    "        for item in values:\n",
    "            if item >= cutoff:\n",
    "                predicao_binaria.append(1)\n",
    "            else:\n",
    "                predicao_binaria.append(0)\n",
    "                \n",
    "        # Cálculo da sensitividade e especificidade no cutoff\n",
    "        sensitividade = recall_score(observado, predicao_binaria, pos_label=1)\n",
    "        especificidadee = recall_score(observado, predicao_binaria, pos_label=0)\n",
    "        \n",
    "        # Adicionar valores nas listas\n",
    "        lista_sensitividade.append(sensitividade)\n",
    "        lista_especificidade.append(especificidadee)\n",
    "        \n",
    "    # Criar dataframe com os resultados nos seus respectivos cutoffs\n",
    "    resultado = pd.DataFrame({'cutoffs':cutoffs,'sensitividade':lista_sensitividade,'especificidade':lista_especificidade})\n",
    "    return resultado\n"
   ]
  },
  {
   "cell_type": "code",
   "execution_count": 12,
   "id": "8401e45e-6ebc-40ba-95c5-694b1c6e2d22",
   "metadata": {
    "scrolled": true
   },
   "outputs": [
    {
     "data": {
      "text/html": [
       "<div>\n",
       "<style scoped>\n",
       "    .dataframe tbody tr th:only-of-type {\n",
       "        vertical-align: middle;\n",
       "    }\n",
       "\n",
       "    .dataframe tbody tr th {\n",
       "        vertical-align: top;\n",
       "    }\n",
       "\n",
       "    .dataframe thead th {\n",
       "        text-align: right;\n",
       "    }\n",
       "</style>\n",
       "<table border=\"1\" class=\"dataframe\">\n",
       "  <thead>\n",
       "    <tr style=\"text-align: right;\">\n",
       "      <th></th>\n",
       "      <th>cutoffs</th>\n",
       "      <th>sensitividade</th>\n",
       "      <th>especificidade</th>\n",
       "    </tr>\n",
       "  </thead>\n",
       "  <tbody>\n",
       "    <tr>\n",
       "      <th>0</th>\n",
       "      <td>0.00</td>\n",
       "      <td>1.000000</td>\n",
       "      <td>0.000000</td>\n",
       "    </tr>\n",
       "    <tr>\n",
       "      <th>1</th>\n",
       "      <td>0.01</td>\n",
       "      <td>1.000000</td>\n",
       "      <td>0.574124</td>\n",
       "    </tr>\n",
       "    <tr>\n",
       "      <th>2</th>\n",
       "      <td>0.02</td>\n",
       "      <td>1.000000</td>\n",
       "      <td>0.653639</td>\n",
       "    </tr>\n",
       "    <tr>\n",
       "      <th>3</th>\n",
       "      <td>0.03</td>\n",
       "      <td>1.000000</td>\n",
       "      <td>0.694070</td>\n",
       "    </tr>\n",
       "    <tr>\n",
       "      <th>4</th>\n",
       "      <td>0.04</td>\n",
       "      <td>1.000000</td>\n",
       "      <td>0.716981</td>\n",
       "    </tr>\n",
       "    <tr>\n",
       "      <th>...</th>\n",
       "      <td>...</td>\n",
       "      <td>...</td>\n",
       "      <td>...</td>\n",
       "    </tr>\n",
       "    <tr>\n",
       "      <th>96</th>\n",
       "      <td>0.96</td>\n",
       "      <td>0.387597</td>\n",
       "      <td>1.000000</td>\n",
       "    </tr>\n",
       "    <tr>\n",
       "      <th>97</th>\n",
       "      <td>0.97</td>\n",
       "      <td>0.344961</td>\n",
       "      <td>1.000000</td>\n",
       "    </tr>\n",
       "    <tr>\n",
       "      <th>98</th>\n",
       "      <td>0.98</td>\n",
       "      <td>0.294574</td>\n",
       "      <td>1.000000</td>\n",
       "    </tr>\n",
       "    <tr>\n",
       "      <th>99</th>\n",
       "      <td>0.99</td>\n",
       "      <td>0.213178</td>\n",
       "      <td>1.000000</td>\n",
       "    </tr>\n",
       "    <tr>\n",
       "      <th>100</th>\n",
       "      <td>1.00</td>\n",
       "      <td>0.000000</td>\n",
       "      <td>1.000000</td>\n",
       "    </tr>\n",
       "  </tbody>\n",
       "</table>\n",
       "<p>101 rows × 3 columns</p>\n",
       "</div>"
      ],
      "text/plain": [
       "     cutoffs  sensitividade  especificidade\n",
       "0       0.00       1.000000        0.000000\n",
       "1       0.01       1.000000        0.574124\n",
       "2       0.02       1.000000        0.653639\n",
       "3       0.03       1.000000        0.694070\n",
       "4       0.04       1.000000        0.716981\n",
       "..       ...            ...             ...\n",
       "96      0.96       0.387597        1.000000\n",
       "97      0.97       0.344961        1.000000\n",
       "98      0.98       0.294574        1.000000\n",
       "99      0.99       0.213178        1.000000\n",
       "100     1.00       0.000000        1.000000\n",
       "\n",
       "[101 rows x 3 columns]"
      ]
     },
     "execution_count": 12,
     "metadata": {},
     "output_type": "execute_result"
    }
   ],
   "source": [
    "# In[1.12]: Até o momento, foram extraídos 3 vetores: 'sensitividade',\n",
    "#'especificidade' e 'cutoffs'. Assim, criamos um dataframe que contém\n",
    "#os vetores mencionados (dataframe 'dados_plotagem')\n",
    "\n",
    "dados_plotagem = espec_sens(observado = df_carne['classe'],\n",
    "                            predicts = df_carne['phat'])\n",
    "dados_plotagem"
   ]
  },
  {
   "cell_type": "code",
   "execution_count": 13,
   "id": "4adcbe35-9bb8-4df2-a96f-4d1dc83573ed",
   "metadata": {},
   "outputs": [
    {
     "data": {
      "image/png": "[encoded data removed]",
      "text/plain": [
       "<Figure size 360x216 with 1 Axes>"
      ]
     },
     "metadata": {
      "needs_background": "light"
     },
     "output_type": "display_data"
    }
   ],
   "source": [
    "# In[1.13]: Plotagem de um gráfico que mostra a variação da especificidade e da\n",
    "#sensitividade em função do cutoff\n",
    "\n",
    "plt.figure(figsize=(5,3))\n",
    "plt.plot(dados_plotagem.cutoffs,dados_plotagem.sensitividade, marker='o',\n",
    "         color='indigo', markersize=2)\n",
    "plt.plot(dados_plotagem.cutoffs,dados_plotagem.especificidade, marker='o',\n",
    "         color='limegreen', markersize=2)\n",
    "plt.xlabel('Cuttoff', fontsize=11)\n",
    "plt.ylabel('Sensitividade / Especificidade', fontsize=11)\n",
    "plt.xticks(np.arange(0, 1.1, 0.2), fontsize=10)\n",
    "plt.yticks(np.arange(0, 1.1, 0.2), fontsize=10)\n",
    "plt.legend(['Sensitividade', 'Especificidade'], fontsize=11)\n",
    "plt.show()"
   ]
  },
  {
   "cell_type": "code",
   "execution_count": 14,
   "id": "5ff5db13-e568-48ec-8249-012bf28bcef0",
   "metadata": {},
   "outputs": [
    {
     "data": {
      "image/png": "[encoded data removed]",
      "text/plain": [
       "<Figure size 360x216 with 1 Axes>"
      ]
     },
     "metadata": {
      "needs_background": "light"
     },
     "output_type": "display_data"
    }
   ],
   "source": [
    "# In[1.14]: Construção da curva ROC\n",
    "\n",
    "from sklearn.metrics import roc_curve, auc\n",
    "\n",
    "# Função 'roc_curve' do pacote 'metrics' do sklearn\n",
    "\n",
    "fpr, tpr, thresholds =roc_curve(df_carne['classe'], df_carne['phat'])\n",
    "roc_auc = auc(fpr, tpr)\n",
    "\n",
    "# Cálculo do coeficiente de GINI\n",
    "gini = (roc_auc - 0.5)/(0.5)\n",
    "\n",
    "# Plotando a curva ROC\n",
    "plt.figure(figsize=(5,3))\n",
    "plt.plot(fpr, tpr, marker='o', color='darkorchid', markersize=2, linewidth=2)\n",
    "plt.plot(fpr, fpr, color='gray', linestyle='dashed')\n",
    "plt.title('Área abaixo da curva: %g' % round(roc_auc, 4) +\n",
    "          ' | Coeficiente de GINI: %g' % round(gini, 4), fontsize=10)\n",
    "plt.xlabel('1 - Especificidade', fontsize=10)\n",
    "plt.ylabel('Sensitividade', fontsize=10)\n",
    "plt.xticks(np.arange(0, 1.1, 0.2), fontsize=10)\n",
    "plt.yticks(np.arange(0, 1.1, 0.2), fontsize=10)\n",
    "plt.show()"
   ]
  },
  {
   "cell_type": "code",
   "execution_count": null,
   "id": "8ec3c7f5",
   "metadata": {},
   "outputs": [],
   "source": []
  },
  {
   "cell_type": "code",
   "execution_count": null,
   "id": "0919e5e9",
   "metadata": {},
   "outputs": [],
   "source": []
  }
 ],
 "metadata": {
  "kernelspec": {
   "display_name": "Python 3",
   "language": "python",
   "name": "python3"
  },
  "language_info": {
   "codemirror_mode": {
    "name": "ipython",
    "version": 3
   },
   "file_extension": ".py",
   "mimetype": "text/x-python",
   "name": "python",
   "nbconvert_exporter": "python",
   "pygments_lexer": "ipython3",
   "version": "3.8.8"
  }
 },
 "nbformat": 4,
 "nbformat_minor": 5
}
