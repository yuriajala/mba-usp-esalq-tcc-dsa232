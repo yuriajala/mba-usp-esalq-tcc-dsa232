{
 "cells": [
  {
   "cell_type": "code",
   "execution_count": 14,
   "id": "d07e30bb-7847-41d7-a1bd-57571a05e7b7",
   "metadata": {},
   "outputs": [],
   "source": [
    "#Importing required library\n",
    "import numpy as np\n",
    "import matplotlib.pyplot as plt\n",
    "from scipy.optimize import curve_fit"
   ]
  },
  {
   "cell_type": "code",
   "execution_count": 15,
   "id": "ee6cb218-d3e1-44ff-af2d-fdbb09d94f19",
   "metadata": {},
   "outputs": [],
   "source": [
    "def classificar(a):\n",
    "    if a <= 35:\n",
    "        classificacao = 0    # dura\n",
    "    elif a > 35 and a < 45:\n",
    "        classificacao = np.random.choice([0, 1])\n",
    "    else:\n",
    "        classificacao = 1    # macia\n",
    "        \n",
    "    return classificacao"
   ]
  },
  {
   "cell_type": "code",
   "execution_count": 16,
   "id": "fbb1256a-387e-4465-bade-29d92d569c92",
   "metadata": {},
   "outputs": [],
   "source": [
    "rng = np.random.default_rng()\n",
    "\n",
    "intensidade_sinal_list = np.clip(rng.normal(loc=30, scale=15, size=1000), 0, 100)\n",
    "umidade_list = rng.normal(loc=0.6, scale=0.2, size=1000)\n",
    "luminosidade_list = rng.normal(loc=70, scale=5, size=1000)"
   ]
  },
  {
   "cell_type": "code",
   "execution_count": 17,
   "id": "3c026117-27dd-458c-b362-0395569eef60",
   "metadata": {},
   "outputs": [],
   "source": [
    "classes_list = []\n",
    "for index, intensidade_sinal in enumerate(intensidade_sinal_list):\n",
    "    sample_class = classificar(intensidade_sinal)\n",
    "    classes_list.append(sample_class)"
   ]
  },
  {
   "cell_type": "code",
   "execution_count": 18,
   "id": "1a246f2c",
   "metadata": {
    "scrolled": true
   },
   "outputs": [
    {
     "name": "stdout",
     "output_type": "stream",
     "text": [
      "     classe  intensidade_sinal   umidade  luminosidade\n",
      "0         0          43.097393  0.668410     73.396712\n",
      "1         1          36.192234  0.397114     72.604725\n",
      "2         1          53.349120  0.355536     64.608831\n",
      "3         0          17.929937  0.700865     66.721904\n",
      "4         0          19.344955  0.372973     74.479639\n",
      "..      ...                ...       ...           ...\n",
      "995       0          27.972347  0.469383     73.264523\n",
      "996       0           0.000000  0.567815     70.553358\n",
      "997       0          41.019917  0.708989     77.724101\n",
      "998       0          33.703622  1.411920     70.278373\n",
      "999       0          32.775106  0.906299     77.374970\n",
      "\n",
      "[1000 rows x 4 columns]\n"
     ]
    },
    {
     "data": {
      "image/png": "[encoded data removed]",
      "text/plain": [
       "<Figure size 432x288 with 1 Axes>"
      ]
     },
     "metadata": {
      "needs_background": "light"
     },
     "output_type": "display_data"
    }
   ],
   "source": [
    "import pandas as pd\n",
    "\n",
    "# Convert sample_points_list to a DataFrame\n",
    "df_rmn = pd.DataFrame()\n",
    "\n",
    "# Rename the columns for clarity (e.g., Point_1, Point_2, ..., Point_16)\n",
    "#df_points.columns = [f'Point_{i+1}' for i in range(df_points.shape[1])]\n",
    "df_rmn['classe'] = classes_list\n",
    "df_rmn['intensidade_sinal'] = intensidade_sinal_list\n",
    "df_rmn['umidade'] = umidade_list\n",
    "df_rmn['luminosidade'] = luminosidade_list\n",
    "# Display the DataFrame\n",
    "print(df_rmn)\n",
    "plt.plot(df_rmn.intensidade_sinal, df_rmn.classe, '.', label='Data')\n",
    "plt.xlabel('Intensidade de sinal', fontsize=11)\n",
    "plt.ylabel('Classe', fontsize=11)\n",
    "plt.show()"
   ]
  },
  {
   "cell_type": "code",
   "execution_count": 19,
   "id": "41b5afc2",
   "metadata": {},
   "outputs": [],
   "source": [
    "df_rmn.to_csv('df_rmn.csv', index=False, encoding='utf-8')"
   ]
  },
  {
   "cell_type": "code",
   "execution_count": null,
   "id": "3ac94a6c",
   "metadata": {},
   "outputs": [],
   "source": []
  }
 ],
 "metadata": {
  "kernelspec": {
   "display_name": "Python 3",
   "language": "python",
   "name": "python3"
  },
  "language_info": {
   "codemirror_mode": {
    "name": "ipython",
    "version": 3
   },
   "file_extension": ".py",
   "mimetype": "text/x-python",
   "name": "python",
   "nbconvert_exporter": "python",
   "pygments_lexer": "ipython3",
   "version": "3.8.8"
  }
 },
 "nbformat": 4,
 "nbformat_minor": 5
}
